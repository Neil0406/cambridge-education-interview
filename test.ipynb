{
 "cells": [
  {
   "cell_type": "code",
   "execution_count": 10,
   "metadata": {},
   "outputs": [
    {
     "name": "stdout",
     "output_type": "stream",
     "text": [
      "0932232473\n"
     ]
    },
    {
     "data": {
      "text/plain": [
       "'0932-232-473'"
      ]
     },
     "execution_count": 10,
     "metadata": {},
     "output_type": "execute_result"
    }
   ],
   "source": [
    "import re\n",
    "def normalize_phone_number(phone_number):\n",
    "    digits = re.sub(r'\\D', '', phone_number)\n",
    "    print(digits)\n",
    "    if len(digits) == 10:\n",
    "        return '{}-{}-{}'.format(digits[:4], digits[4:7], digits[7:])\n",
    "    else:\n",
    "        raise ValueError(\"Invalid phone number. Must contain exactly 10 digits.\")\n",
    "    \n",
    "    \n",
    "normalize_phone_number('0932232473')"
   ]
  }
 ],
 "metadata": {
  "kernelspec": {
   "display_name": ".venv",
   "language": "python",
   "name": "python3"
  },
  "language_info": {
   "codemirror_mode": {
    "name": "ipython",
    "version": 3
   },
   "file_extension": ".py",
   "mimetype": "text/x-python",
   "name": "python",
   "nbconvert_exporter": "python",
   "pygments_lexer": "ipython3",
   "version": "3.9.6"
  }
 },
 "nbformat": 4,
 "nbformat_minor": 2
}
